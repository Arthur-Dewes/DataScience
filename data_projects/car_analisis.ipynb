{
 "cells": [
  {
   "cell_type": "code",
   "execution_count": 43,
   "id": "55925f8f",
   "metadata": {},
   "outputs": [],
   "source": [
    "# to do: \n",
    "# preco x mileage, mileage x brand, preço x brand (yerr)"
   ]
  },
  {
   "cell_type": "code",
   "execution_count": 31,
   "id": "6cd8c013",
   "metadata": {},
   "outputs": [],
   "source": [
    "import numpy as np\n",
    "import pandas as pd\n",
    "from matplotlib import pyplot as plt\n",
    "%matplotlib inline"
   ]
  },
  {
   "cell_type": "code",
   "execution_count": 32,
   "id": "566f2ec5",
   "metadata": {},
   "outputs": [],
   "source": [
    "data = pd.read_csv(\"DATASETS/carsUS.csv\", encoding=\"utf-16\")\n",
    "df = pd.DataFrame(data)"
   ]
  },
  {
   "cell_type": "code",
   "execution_count": 33,
   "id": "33bd0184",
   "metadata": {},
   "outputs": [
    {
     "data": {
      "text/html": [
       "<div>\n",
       "<style scoped>\n",
       "    .dataframe tbody tr th:only-of-type {\n",
       "        vertical-align: middle;\n",
       "    }\n",
       "\n",
       "    .dataframe tbody tr th {\n",
       "        vertical-align: top;\n",
       "    }\n",
       "\n",
       "    .dataframe thead th {\n",
       "        text-align: right;\n",
       "    }\n",
       "</style>\n",
       "<table border=\"1\" class=\"dataframe\">\n",
       "  <thead>\n",
       "    <tr style=\"text-align: right;\">\n",
       "      <th></th>\n",
       "      <th>Brand</th>\n",
       "      <th>Model</th>\n",
       "      <th>Year</th>\n",
       "      <th>Status</th>\n",
       "      <th>Mileage</th>\n",
       "      <th>Dealer</th>\n",
       "      <th>Price</th>\n",
       "    </tr>\n",
       "  </thead>\n",
       "  <tbody>\n",
       "    <tr>\n",
       "      <th>121610</th>\n",
       "      <td>Audi</td>\n",
       "      <td>Q8</td>\n",
       "      <td>2023</td>\n",
       "      <td>New</td>\n",
       "      <td>0</td>\n",
       "      <td>Audi Orland Park</td>\n",
       "      <td>8078160</td>\n",
       "    </tr>\n",
       "    <tr>\n",
       "      <th>86879</th>\n",
       "      <td>Bugatti</td>\n",
       "      <td>Chiron</td>\n",
       "      <td>2019</td>\n",
       "      <td>Used</td>\n",
       "      <td>1760</td>\n",
       "      <td>Ferrari Maserati Alfa Romeo of Fort Lauderdale</td>\n",
       "      <td>3399000</td>\n",
       "    </tr>\n",
       "    <tr>\n",
       "      <th>129461</th>\n",
       "      <td>Jeep</td>\n",
       "      <td>Wagoneer</td>\n",
       "      <td>2022</td>\n",
       "      <td>New</td>\n",
       "      <td>0</td>\n",
       "      <td>MotorWorld Chrysler Dodge Jeep RAM</td>\n",
       "      <td>3383150</td>\n",
       "    </tr>\n",
       "  </tbody>\n",
       "</table>\n",
       "</div>"
      ],
      "text/plain": [
       "          Brand     Model  Year Status  Mileage  \\\n",
       "121610     Audi        Q8  2023    New        0   \n",
       "86879   Bugatti    Chiron  2019   Used     1760   \n",
       "129461     Jeep  Wagoneer  2022    New        0   \n",
       "\n",
       "                                                Dealer    Price  \n",
       "121610                                Audi Orland Park  8078160  \n",
       "86879   Ferrari Maserati Alfa Romeo of Fort Lauderdale  3399000  \n",
       "129461              MotorWorld Chrysler Dodge Jeep RAM  3383150  "
      ]
     },
     "metadata": {},
     "output_type": "display_data"
    }
   ],
   "source": [
    "df2 = df.copy()\n",
    "\n",
    "fill_values = {'New': 0, 'Used': -1, 'Certified': -1} # represents unknown values as -1\n",
    "df2['Mileage'] = df2['Mileage'].fillna(df['Status'].map(fill_values))\n",
    "df2['Dealer'] = df2['Dealer'].fillna('Unknown')\n",
    "\n",
    "mean_by_brand = df2.groupby('Brand')['Price'].mean() # calculates the average price by brand\n",
    "# fills the NaN values in the Price column with the averages of the corresponding brands\n",
    "df2['Price'] = df2['Price'].fillna(df2['Brand'].map(mean_by_brand))\n",
    "\n",
    "has_inf = df2[df2.select_dtypes(include=['float']).columns.tolist()].map(np.isinf)\n",
    "# print(has_inf.any())\n",
    "\n",
    "df2[['Mileage', 'Price']] = df2[['Mileage', 'Price']].astype('int32')\n",
    "df2['Year'] = df2['Year'].astype('int16')\n",
    "\n",
    "top3 = df2.nlargest(3, 'Price')\n",
    "display(top3) # three most expensive cars\n",
    "\n",
    "# df2.info()\n",
    "# display(df2)"
   ]
  },
  {
   "cell_type": "code",
   "execution_count": 42,
   "id": "f84d5247",
   "metadata": {},
   "outputs": [
    {
     "data": {
      "image/png": "[encoded data removed]",
      "text/plain": [
       "<Figure size 640x480 with 1 Axes>"
      ]
     },
     "metadata": {},
     "output_type": "display_data"
    }
   ],
   "source": [
    "fig, ax = plt.subplots()\n",
    "\n",
    "status = df2['Status'].value_counts()\n",
    "\n",
    "pos = np.arange(status.size)\n",
    "plt.bar(np.array([1, 2, 3]), status.iloc[pos], width=0.5, color=['skyblue', 'indianred', 'mediumorchid'], label=['New', 'Used', 'Certified'])\n",
    "plt.title('Status of all cars')\n",
    "plt.xticks(np.array([1, 2, 3]))\n",
    "\n",
    "plt.legend()\n",
    "plt.show()"
   ]
  },
  {
   "cell_type": "code",
   "execution_count": null,
   "id": "2963711e",
   "metadata": {},
   "outputs": [],
   "source": []
  }
 ],
 "metadata": {
  "kernelspec": {
   "display_name": "Python 3 (ipykernel)",
   "language": "python",
   "name": "python3"
  },
  "language_info": {
   "codemirror_mode": {
    "name": "ipython",
    "version": 3
   },
   "file_extension": ".py",
   "mimetype": "text/x-python",
   "name": "python",
   "nbconvert_exporter": "python",
   "pygments_lexer": "ipython3",
   "version": "3.12.3"
  }
 },
 "nbformat": 4,
 "nbformat_minor": 5
}
