{
 "cells": [
  {
   "cell_type": "code",
   "execution_count": 1,
   "id": "6cd8c013",
   "metadata": {},
   "outputs": [],
   "source": [
    "import numpy as np\n",
    "import pandas as pd\n",
    "from matplotlib import pyplot as plt\n",
    "%matplotlib inline"
   ]
  },
  {
   "cell_type": "code",
   "execution_count": 64,
   "id": "566f2ec5",
   "metadata": {},
   "outputs": [],
   "source": [
    "data = pd.read_csv(\"DATASETS/carsUS.csv\", encoding=\"utf-16\")\n",
    "df = pd.DataFrame(data)"
   ]
  },
  {
   "cell_type": "code",
   "execution_count": 63,
   "id": "33bd0184",
   "metadata": {},
   "outputs": [],
   "source": [
    "df2 = df.copy()\n",
    "df2['Mileage'] = df2['Mileage'].fillna(-1) # unkown values\n",
    "df2['Dealer'] = df2['Dealer'].fillna('Unknown')\n",
    "\n",
    "mean_by_brand = df2.groupby('Brand')['Price'].mean() # calculates the average price by brand\n",
    "# fills the NaN values in the Price column with the averages of the corresponding brands\n",
    "df2['Price'] = df2['Price'].fillna(df2['Brand'].map(mean_by_brand))\n",
    "\n",
    "has_inf = df[df.select_dtypes(include=['float']).columns.tolist()].map(np.isinf)\n",
    "# print(has_inf.any())\n",
    "\n",
    "df2[['Mileage', 'Price']] = df2[['Mileage', 'Price']].astype('int64')\n",
    "\n",
    "# df2.info()\n",
    "# display(df2)"
   ]
  }
 ],
 "metadata": {
  "kernelspec": {
   "display_name": "Python 3 (ipykernel)",
   "language": "python",
   "name": "python3"
  },
  "language_info": {
   "codemirror_mode": {
    "name": "ipython",
    "version": 3
   },
   "file_extension": ".py",
   "mimetype": "text/x-python",
   "name": "python",
   "nbconvert_exporter": "python",
   "pygments_lexer": "ipython3",
   "version": "3.12.3"
  }
 },
 "nbformat": 4,
 "nbformat_minor": 5
}
